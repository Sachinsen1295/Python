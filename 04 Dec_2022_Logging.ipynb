{
 "cells": [
  {
   "cell_type": "code",
   "execution_count": 102,
   "id": "a8c2e198-d2e9-481c-a6d8-7e4a60ff26d3",
   "metadata": {},
   "outputs": [
    {
     "name": "stdout",
     "output_type": "stream",
     "text": [
      "'03 Dec-2022_Exception_handling.ipynb'   README.md           test.txt\n",
      "'04 Dec_2022_Logging.ipynb'              sample-code.ipynb   text1.txt\n",
      " ineuron.txt                             test3.txt           text2.txt\n"
     ]
    }
   ],
   "source": [
    "ls"
   ]
  },
  {
   "cell_type": "code",
   "execution_count": 103,
   "id": "343c1095-e521-4887-bb54-e73c0f87fcca",
   "metadata": {},
   "outputs": [
    {
     "data": {
      "text/plain": [
       "'/home/jovyan/work'"
      ]
     },
     "execution_count": 103,
     "metadata": {},
     "output_type": "execute_result"
    }
   ],
   "source": [
    "pwd()"
   ]
  },
  {
   "cell_type": "markdown",
   "id": "f0b7cd2c-6c47-4e2b-a12b-4be7d015ca41",
   "metadata": {},
   "source": [
    "Open file"
   ]
  },
  {
   "cell_type": "code",
   "execution_count": 104,
   "id": "7e1c1513-dc24-468d-ae2d-589a13fa5f5c",
   "metadata": {},
   "outputs": [],
   "source": [
    "f = open('test.txt','wb')"
   ]
  },
  {
   "cell_type": "code",
   "execution_count": 105,
   "id": "bdd74b53-85f3-424c-ab42-7146283fa374",
   "metadata": {},
   "outputs": [
    {
     "data": {
      "text/plain": [
       "_io.BufferedWriter"
      ]
     },
     "execution_count": 105,
     "metadata": {},
     "output_type": "execute_result"
    }
   ],
   "source": [
    "type(f)"
   ]
  },
  {
   "cell_type": "code",
   "execution_count": 106,
   "id": "af7edeee-e9fd-4ba3-a4aa-3fe18eff3307",
   "metadata": {},
   "outputs": [],
   "source": [
    "f.close()"
   ]
  },
  {
   "cell_type": "code",
   "execution_count": 107,
   "id": "1d33f367-891c-4d9f-840c-021ff36fdce3",
   "metadata": {},
   "outputs": [
    {
     "data": {
      "text/plain": [
       "<function BufferedWriter.read>"
      ]
     },
     "execution_count": 107,
     "metadata": {},
     "output_type": "execute_result"
    }
   ],
   "source": [
    "f.read"
   ]
  },
  {
   "cell_type": "markdown",
   "id": "43da5c41-495d-4c76-9405-76bf8e54d8c1",
   "metadata": {},
   "source": [
    "How to Read a file "
   ]
  },
  {
   "cell_type": "code",
   "execution_count": 108,
   "id": "e988eebb-bd41-487b-bf83-1cfa6149e5e8",
   "metadata": {},
   "outputs": [],
   "source": [
    "f = open('test.txt','r')"
   ]
  },
  {
   "cell_type": "code",
   "execution_count": 109,
   "id": "9a6ebc4e-f72d-4c8d-9557-7f1c4784bb1d",
   "metadata": {},
   "outputs": [
    {
     "data": {
      "text/plain": [
       "''"
      ]
     },
     "execution_count": 109,
     "metadata": {},
     "output_type": "execute_result"
    }
   ],
   "source": [
    "f.read()"
   ]
  },
  {
   "cell_type": "code",
   "execution_count": 110,
   "id": "8b69d209-703b-4fc3-9917-b2cc49af98b3",
   "metadata": {},
   "outputs": [
    {
     "data": {
      "text/plain": [
       "''"
      ]
     },
     "execution_count": 110,
     "metadata": {},
     "output_type": "execute_result"
    }
   ],
   "source": [
    "f.read(14)"
   ]
  },
  {
   "cell_type": "markdown",
   "id": "17c6c9d6-4a07-42d0-bce3-1f5cd3b73efa",
   "metadata": {},
   "source": [
    "To reset curser"
   ]
  },
  {
   "cell_type": "code",
   "execution_count": 111,
   "id": "349c45e9-a873-4d2b-a13b-4abb31a3af9e",
   "metadata": {},
   "outputs": [
    {
     "data": {
      "text/plain": [
       "0"
      ]
     },
     "execution_count": 111,
     "metadata": {},
     "output_type": "execute_result"
    }
   ],
   "source": [
    "f.seek(0)"
   ]
  },
  {
   "cell_type": "markdown",
   "id": "4036ea77-e96d-4ba3-8572-1901c06cde86",
   "metadata": {},
   "source": [
    "to know the position of the cursur"
   ]
  },
  {
   "cell_type": "code",
   "execution_count": 112,
   "id": "1acf6912-f1d8-4d34-9c74-a688fa3c9909",
   "metadata": {},
   "outputs": [
    {
     "data": {
      "text/plain": [
       "0"
      ]
     },
     "execution_count": 112,
     "metadata": {},
     "output_type": "execute_result"
    }
   ],
   "source": [
    "f.tell()"
   ]
  },
  {
   "cell_type": "code",
   "execution_count": 113,
   "id": "247c7688-ff35-4b5f-85b9-98f8c273eb08",
   "metadata": {},
   "outputs": [
    {
     "data": {
      "text/plain": [
       "''"
      ]
     },
     "execution_count": 113,
     "metadata": {},
     "output_type": "execute_result"
    }
   ],
   "source": [
    "f.readline()"
   ]
  },
  {
   "cell_type": "code",
   "execution_count": 114,
   "id": "fe8e7505-e7f1-4478-8efb-cfee69239a66",
   "metadata": {},
   "outputs": [],
   "source": [
    "try:\n",
    "    f = open('test.txt')\n",
    "finally:\n",
    "    f.close()"
   ]
  },
  {
   "cell_type": "code",
   "execution_count": 115,
   "id": "b4add196-5061-4808-9935-d958a4094c8c",
   "metadata": {},
   "outputs": [],
   "source": [
    "with open('test.txt') as f:\n",
    "    # do operations\n",
    "    pass"
   ]
  },
  {
   "cell_type": "markdown",
   "id": "a1e57c27-64e6-45e5-865d-1592f784ffa4",
   "metadata": {},
   "source": [
    "Write mOde"
   ]
  },
  {
   "cell_type": "code",
   "execution_count": 116,
   "id": "59f45b28-57d3-4613-a7a5-ef872d5fbbfb",
   "metadata": {},
   "outputs": [],
   "source": [
    "f = open('text1.txt','w')"
   ]
  },
  {
   "cell_type": "code",
   "execution_count": 117,
   "id": "1b7dce3e-92e2-4f0e-a3f8-d662b679099a",
   "metadata": {},
   "outputs": [
    {
     "data": {
      "text/plain": [
       "17"
      ]
     },
     "execution_count": 117,
     "metadata": {},
     "output_type": "execute_result"
    }
   ],
   "source": [
    "f.write('Lan from I neuron')"
   ]
  },
  {
   "cell_type": "code",
   "execution_count": 118,
   "id": "438c7f43-205a-4da6-92fd-f64cf768fd14",
   "metadata": {},
   "outputs": [
    {
     "name": "stdout",
     "output_type": "stream",
     "text": [
      "done\n"
     ]
    }
   ],
   "source": [
    "data = 'Today is sunday'\n",
    "f = open('text1.txt','w')\n",
    "f.write(data)\n",
    "print('done')\n",
    "f.close()"
   ]
  },
  {
   "cell_type": "code",
   "execution_count": 119,
   "id": "13dd00ae-acb9-4a1f-acb9-84362d85bcae",
   "metadata": {},
   "outputs": [
    {
     "name": "stdout",
     "output_type": "stream",
     "text": [
      "done\n"
     ]
    }
   ],
   "source": [
    "data = 'Today is sunday'\n",
    "f = open('text1.txt','w')\n",
    "f.writelines(data)\n",
    "print('done')\n",
    "f.close()"
   ]
  },
  {
   "cell_type": "code",
   "execution_count": 120,
   "id": "a70867e2-7b95-42af-9595-8051ef76252c",
   "metadata": {},
   "outputs": [],
   "source": [
    "with open('text2.txt','w') as f:\n",
    "    f.write('first line\\n')\n",
    "    f.write('seconf line')\n",
    "    pass"
   ]
  },
  {
   "cell_type": "code",
   "execution_count": 121,
   "id": "7d2bfb58-8189-4dde-92b1-a4ca41dcb0bc",
   "metadata": {},
   "outputs": [
    {
     "data": {
      "text/plain": [
       "<_io.TextIOWrapper name='text2.txt' mode='w' encoding='UTF-8'>"
      ]
     },
     "execution_count": 121,
     "metadata": {},
     "output_type": "execute_result"
    }
   ],
   "source": [
    "f"
   ]
  },
  {
   "cell_type": "code",
   "execution_count": 122,
   "id": "9ebd6b89-e746-49bc-9a4b-fc9c158e2eda",
   "metadata": {},
   "outputs": [
    {
     "name": "stdin",
     "output_type": "stream",
     "text": [
      "enter the first number 1\n",
      "enter the second number 2\n"
     ]
    },
    {
     "name": "stdout",
     "output_type": "stream",
     "text": [
      "secccessfull\n"
     ]
    }
   ],
   "source": [
    "try:\n",
    "    a = int(input('enter the first number'))\n",
    "    b= int(input('enter the second number'))\n",
    "    c = a/b\n",
    "    \n",
    "except Exception as e:\n",
    "    print(e)\n",
    "    \n",
    "    f = open('ineuron.txt','w+')\n",
    "    f.write(e)\n",
    "    f.read()\n",
    "    \n",
    "else:\n",
    "    print('secccessfull')\n",
    "    try:\n",
    "        f = open('test3.txt','w+')\n",
    "        \n",
    "    except Exception as e:\n",
    "        print(e)"
   ]
  },
  {
   "cell_type": "code",
   "execution_count": 123,
   "id": "cc51462b-ee92-4b5c-bd07-f38685a68e33",
   "metadata": {},
   "outputs": [
    {
     "name": "stdin",
     "output_type": "stream",
     "text": [
      "enter the first number 7\n",
      "enter the second number 0\n"
     ]
    },
    {
     "name": "stdout",
     "output_type": "stream",
     "text": [
      "division by zero\n"
     ]
    }
   ],
   "source": [
    "try:\n",
    "    a = int(input('enter the first number'))\n",
    "    b= int(input('enter the second number'))\n",
    "    c = a/b\n",
    "    \n",
    "except Exception as e:\n",
    "    print(e)\n",
    "    \n",
    "    f = open('ineuron.txt','w+')\n",
    "    \n",
    "    f.write(str(e))\n",
    "    f.read()\n",
    "    \n",
    "else:\n",
    "    print('secccessfull')\n",
    "    try:\n",
    "        f = open('test3.txt','w+')\n",
    "        \n",
    "    except Exception as e:\n",
    "        print(e)"
   ]
  },
  {
   "cell_type": "code",
   "execution_count": 130,
   "id": "e9941706-3872-498c-946a-3298271e1ac8",
   "metadata": {},
   "outputs": [],
   "source": [
    "def file_check(a):\n",
    "    \n",
    "    try:\n",
    "        open(a)\n",
    "        return 'file is available'\n",
    "    except:\n",
    "        return'file not exist'"
   ]
  },
  {
   "cell_type": "code",
   "execution_count": 132,
   "id": "ef5d6a7b-83ef-42c7-8869-3a39fb744b1f",
   "metadata": {},
   "outputs": [
    {
     "data": {
      "text/plain": [
       "'file not exist'"
      ]
     },
     "execution_count": 132,
     "metadata": {},
     "output_type": "execute_result"
    }
   ],
   "source": [
    "file_check('te.txt')"
   ]
  },
  {
   "cell_type": "code",
   "execution_count": 133,
   "id": "258ca18e-6e35-43b7-a0c1-1c188001a42d",
   "metadata": {},
   "outputs": [],
   "source": [
    "f = open('ineuron.txt')"
   ]
  },
  {
   "cell_type": "code",
   "execution_count": 137,
   "id": "936cce53-3589-4fd4-8628-129fc301c87d",
   "metadata": {},
   "outputs": [],
   "source": [
    "import os"
   ]
  },
  {
   "cell_type": "code",
   "execution_count": 138,
   "id": "0c7d4be2-ff6f-4b93-8b5d-769087eeec0c",
   "metadata": {},
   "outputs": [
    {
     "ename": "TypeError",
     "evalue": "stat: path should be string, bytes, os.PathLike or integer, not TextIOWrapper",
     "output_type": "error",
     "traceback": [
      "\u001b[0;31m---------------------------------------------------------------------------\u001b[0m",
      "\u001b[0;31mTypeError\u001b[0m                                 Traceback (most recent call last)",
      "Cell \u001b[0;32mIn [138], line 1\u001b[0m\n\u001b[0;32m----> 1\u001b[0m \u001b[43mos\u001b[49m\u001b[38;5;241;43m.\u001b[39;49m\u001b[43mpath\u001b[49m\u001b[38;5;241;43m.\u001b[39;49m\u001b[43mgetsize\u001b[49m\u001b[43m(\u001b[49m\u001b[43mf\u001b[49m\u001b[43m)\u001b[49m\n",
      "File \u001b[0;32m/opt/conda/lib/python3.10/genericpath.py:50\u001b[0m, in \u001b[0;36mgetsize\u001b[0;34m(filename)\u001b[0m\n\u001b[1;32m     48\u001b[0m \u001b[38;5;28;01mdef\u001b[39;00m \u001b[38;5;21mgetsize\u001b[39m(filename):\n\u001b[1;32m     49\u001b[0m     \u001b[38;5;124;03m\"\"\"Return the size of a file, reported by os.stat().\"\"\"\u001b[39;00m\n\u001b[0;32m---> 50\u001b[0m     \u001b[38;5;28;01mreturn\u001b[39;00m \u001b[43mos\u001b[49m\u001b[38;5;241;43m.\u001b[39;49m\u001b[43mstat\u001b[49m\u001b[43m(\u001b[49m\u001b[43mfilename\u001b[49m\u001b[43m)\u001b[49m\u001b[38;5;241m.\u001b[39mst_size\n",
      "\u001b[0;31mTypeError\u001b[0m: stat: path should be string, bytes, os.PathLike or integer, not TextIOWrapper"
     ]
    }
   ],
   "source": [
    "os.path.getsize()"
   ]
  },
  {
   "cell_type": "code",
   "execution_count": 139,
   "id": "80106bf2-382d-4084-a4af-76e83e54a7ba",
   "metadata": {},
   "outputs": [
    {
     "data": {
      "text/plain": [
       "16"
      ]
     },
     "execution_count": 139,
     "metadata": {},
     "output_type": "execute_result"
    }
   ],
   "source": [
    "f.seek(0,os.SEEK_END)"
   ]
  },
  {
   "cell_type": "code",
   "execution_count": 140,
   "id": "cb0af730-a19c-49d3-ab0f-bc017bf1aba1",
   "metadata": {},
   "outputs": [
    {
     "data": {
      "text/plain": [
       "16"
      ]
     },
     "execution_count": 140,
     "metadata": {},
     "output_type": "execute_result"
    }
   ],
   "source": [
    "f.tell()"
   ]
  },
  {
   "cell_type": "code",
   "execution_count": 143,
   "id": "2658a70f-44a3-4d06-929b-32460f85d68b",
   "metadata": {},
   "outputs": [],
   "source": [
    "def check_filesize(a):\n",
    "    import os\n",
    "    try:\n",
    "        f = open(a)\n",
    "        f.seek(0,os.SEEK_END)\n",
    "        \n",
    "        return 'file is available and file is {} bites'.format(f.tell())\n",
    "    except:\n",
    "        return'file not exist'"
   ]
  },
  {
   "cell_type": "code",
   "execution_count": 145,
   "id": "5354cd3f-b43f-46e6-8fa6-77f978d52a15",
   "metadata": {},
   "outputs": [
    {
     "data": {
      "text/plain": [
       "'file is available and file is 15 bites'"
      ]
     },
     "execution_count": 145,
     "metadata": {},
     "output_type": "execute_result"
    }
   ],
   "source": [
    "check_filesize('text1.txt')"
   ]
  },
  {
   "cell_type": "code",
   "execution_count": null,
   "id": "437f0fb2-c77b-42f4-b4eb-84443ef088da",
   "metadata": {},
   "outputs": [],
   "source": []
  }
 ],
 "metadata": {
  "kernelspec": {
   "display_name": "Python 3 (ipykernel)",
   "language": "python",
   "name": "python3"
  },
  "language_info": {
   "codemirror_mode": {
    "name": "ipython",
    "version": 3
   },
   "file_extension": ".py",
   "mimetype": "text/x-python",
   "name": "python",
   "nbconvert_exporter": "python",
   "pygments_lexer": "ipython3",
   "version": "3.10.6"
  }
 },
 "nbformat": 4,
 "nbformat_minor": 5
}
