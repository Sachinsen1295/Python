{
 "cells": [
  {
   "cell_type": "code",
   "execution_count": 89,
   "id": "292a22ba",
   "metadata": {},
   "outputs": [],
   "source": [
    "def test1(func):\n",
    "    def test2(*args,**kwargs):\n",
    "        func(*args,**kwargs)\n",
    "        print(func(*args,**kwargs))\n",
    "        print('i am in test1')\n",
    "        return func(*args,**kwargs)\n",
    "    return test2"
   ]
  },
  {
   "cell_type": "code",
   "execution_count": 90,
   "id": "923719f9",
   "metadata": {},
   "outputs": [],
   "source": [
    "@test1\n",
    "def test3(a,b):\n",
    "    return a + b"
   ]
  },
  {
   "cell_type": "code",
   "execution_count": 95,
   "id": "57192bb9",
   "metadata": {},
   "outputs": [
    {
     "name": "stdout",
     "output_type": "stream",
     "text": [
      "22\n",
      "i am in test1\n"
     ]
    },
    {
     "data": {
      "text/plain": [
       "22"
      ]
     },
     "execution_count": 95,
     "metadata": {},
     "output_type": "execute_result"
    }
   ],
   "source": [
    "test3(2,20)"
   ]
  },
  {
   "cell_type": "code",
   "execution_count": 93,
   "id": "f4e686dd",
   "metadata": {},
   "outputs": [
    {
     "data": {
      "text/plain": [
       "function"
      ]
     },
     "execution_count": 93,
     "metadata": {},
     "output_type": "execute_result"
    }
   ],
   "source": [
    "type(test3)"
   ]
  },
  {
   "cell_type": "markdown",
   "id": "3a0d20f0",
   "metadata": {},
   "source": [
    "# Lambda"
   ]
  },
  {
   "cell_type": "code",
   "execution_count": 111,
   "id": "31541386",
   "metadata": {},
   "outputs": [
    {
     "ename": "SyntaxError",
     "evalue": "invalid syntax (1112001086.py, line 4)",
     "output_type": "error",
     "traceback": [
      "\u001b[0;36m  Input \u001b[0;32mIn [111]\u001b[0;36m\u001b[0m\n\u001b[0;31m    c= lambda a,b : a+b\u001b[0m\n\u001b[0m    ^\u001b[0m\n\u001b[0;31mSyntaxError\u001b[0m\u001b[0;31m:\u001b[0m invalid syntax\n"
     ]
    }
   ],
   "source": [
    "a = 10\n",
    "b = 20\n",
    "c= lambda a,b : a+b"
   ]
  },
  {
   "cell_type": "code",
   "execution_count": 105,
   "id": "22480562",
   "metadata": {},
   "outputs": [
    {
     "data": {
      "text/plain": [
       "30"
      ]
     },
     "execution_count": 105,
     "metadata": {},
     "output_type": "execute_result"
    }
   ],
   "source": [
    "c(10,20)"
   ]
  },
  {
   "cell_type": "code",
   "execution_count": 109,
   "id": "39c5c8bd",
   "metadata": {},
   "outputs": [
    {
     "data": {
      "text/plain": [
       "<function __main__.test1.<locals>.test2(*args, **kwargs)>"
      ]
     },
     "execution_count": 109,
     "metadata": {},
     "output_type": "execute_result"
    }
   ],
   "source": [
    "test1(c)"
   ]
  },
  {
   "cell_type": "code",
   "execution_count": 110,
   "id": "08a194ea",
   "metadata": {},
   "outputs": [
    {
     "data": {
      "text/plain": [
       "30"
      ]
     },
     "execution_count": 110,
     "metadata": {},
     "output_type": "execute_result"
    }
   ],
   "source": [
    "c(10,20)"
   ]
  },
  {
   "cell_type": "markdown",
   "id": "d2a04345",
   "metadata": {},
   "source": [
    "## Map"
   ]
  },
  {
   "cell_type": "code",
   "execution_count": 112,
   "id": "6414dbbf",
   "metadata": {},
   "outputs": [],
   "source": [
    "def test1(a):\n",
    "    return a+10"
   ]
  },
  {
   "cell_type": "code",
   "execution_count": 113,
   "id": "7b957c21",
   "metadata": {},
   "outputs": [],
   "source": [
    "l = [1,2,3,4]"
   ]
  },
  {
   "cell_type": "code",
   "execution_count": 114,
   "id": "2fbff767",
   "metadata": {},
   "outputs": [
    {
     "data": {
      "text/plain": [
       "[11, 12, 13, 14]"
      ]
     },
     "execution_count": 114,
     "metadata": {},
     "output_type": "execute_result"
    }
   ],
   "source": [
    "list(map(test1,l))"
   ]
  },
  {
   "cell_type": "code",
   "execution_count": 115,
   "id": "5b9363d6",
   "metadata": {},
   "outputs": [],
   "source": [
    "l = ['sachin', 'sourav']\n",
    "\n"
   ]
  },
  {
   "cell_type": "code",
   "execution_count": 121,
   "id": "d5245eaf",
   "metadata": {},
   "outputs": [
    {
     "data": {
      "text/plain": [
       "['SACHIN', 'SOURAV']"
      ]
     },
     "execution_count": 121,
     "metadata": {},
     "output_type": "execute_result"
    }
   ],
   "source": [
    "list(map(lambda x : x.upper(),l))"
   ]
  },
  {
   "cell_type": "code",
   "execution_count": 151,
   "id": "4cb78ed4",
   "metadata": {},
   "outputs": [],
   "source": [
    "def upper1(a):\n",
    "    return a.upper()\n",
    "\n",
    "        "
   ]
  },
  {
   "cell_type": "code",
   "execution_count": 160,
   "id": "97000dc6",
   "metadata": {},
   "outputs": [
    {
     "data": {
      "text/plain": [
       "'SACHIN'"
      ]
     },
     "execution_count": 160,
     "metadata": {},
     "output_type": "execute_result"
    }
   ],
   "source": [
    "upper1('sachin')"
   ]
  },
  {
   "cell_type": "code",
   "execution_count": 152,
   "id": "214d9562",
   "metadata": {},
   "outputs": [
    {
     "data": {
      "text/plain": [
       "['SACHIN', 'SOURAV']"
      ]
     },
     "execution_count": 152,
     "metadata": {},
     "output_type": "execute_result"
    }
   ],
   "source": [
    "list(map(upper1,l))"
   ]
  },
  {
   "cell_type": "code",
   "execution_count": 153,
   "id": "0b3cce76",
   "metadata": {},
   "outputs": [],
   "source": [
    "l= [1,2,3,4,5,6,7]"
   ]
  },
  {
   "cell_type": "code",
   "execution_count": 159,
   "id": "a5c68273",
   "metadata": {},
   "outputs": [
    {
     "data": {
      "text/plain": [
       "[None, 2, None, 4, None, 6, None]"
      ]
     },
     "execution_count": 159,
     "metadata": {},
     "output_type": "execute_result"
    }
   ],
   "source": [
    "list(map(lambda x :x if x%2 ==0 else None ,l))"
   ]
  },
  {
   "cell_type": "code",
   "execution_count": 178,
   "id": "56532860",
   "metadata": {},
   "outputs": [
    {
     "data": {
      "text/plain": [
       "[2, 4, 6, 8]"
      ]
     },
     "execution_count": 178,
     "metadata": {},
     "output_type": "execute_result"
    }
   ],
   "source": [
    "\n",
    "l= [1,2,3,4,5,6,7,8]\n",
    "def fil(a):\n",
    "    return a%2==0\n",
    "\n",
    "list(filter(fil,l))"
   ]
  },
  {
   "cell_type": "code",
   "execution_count": 161,
   "id": "6744f8f1",
   "metadata": {},
   "outputs": [],
   "source": [
    "def test2(a):\n",
    "    if a%2==0:\n",
    "        return True\n",
    "    else:\n",
    "        return False"
   ]
  },
  {
   "cell_type": "code",
   "execution_count": 176,
   "id": "d29441a6",
   "metadata": {},
   "outputs": [],
   "source": [
    "l= [1,2,3,4,5,6,7,8]\n",
    "def mul(a,b):\n",
    "    return a*b\n",
    "\n",
    "reduce(mul,l)"
   ]
  },
  {
   "cell_type": "code",
   "execution_count": 169,
   "id": "a21b2800",
   "metadata": {},
   "outputs": [],
   "source": [
    "from functools import reduce"
   ]
  },
  {
   "cell_type": "code",
   "execution_count": 183,
   "id": "10877ab0",
   "metadata": {},
   "outputs": [
    {
     "ename": "TypeError",
     "evalue": "<lambda>() missing 1 required positional argument: 'c'",
     "output_type": "error",
     "traceback": [
      "\u001b[0;31m---------------------------------------------------------------------------\u001b[0m",
      "\u001b[0;31mTypeError\u001b[0m                                 Traceback (most recent call last)",
      "Input \u001b[0;32mIn [183]\u001b[0m, in \u001b[0;36m<cell line: 1>\u001b[0;34m()\u001b[0m\n\u001b[0;32m----> 1\u001b[0m \u001b[43mreduce\u001b[49m\u001b[43m(\u001b[49m\u001b[38;5;28;43;01mlambda\u001b[39;49;00m\u001b[43m \u001b[49m\u001b[43ma\u001b[49m\u001b[43m,\u001b[49m\u001b[43mb\u001b[49m\u001b[43m,\u001b[49m\u001b[43mc\u001b[49m\u001b[43m \u001b[49m\u001b[43m:\u001b[49m\u001b[43m \u001b[49m\u001b[43ma\u001b[49m\u001b[38;5;241;43m*\u001b[39;49m\u001b[43mb\u001b[49m\u001b[38;5;241;43m*\u001b[39;49m\u001b[43mc\u001b[49m\u001b[43m \u001b[49m\u001b[43m,\u001b[49m\u001b[43ml\u001b[49m\u001b[43m)\u001b[49m\n",
      "\u001b[0;31mTypeError\u001b[0m: <lambda>() missing 1 required positional argument: 'c'"
     ]
    }
   ],
   "source": [
    "reduce(lambda a,b,c : a*b*c ,l)"
   ]
  },
  {
   "cell_type": "code",
   "execution_count": 182,
   "id": "c959ecc3",
   "metadata": {},
   "outputs": [
    {
     "data": {
      "text/plain": [
       "40320"
      ]
     },
     "execution_count": 182,
     "metadata": {},
     "output_type": "execute_result"
    }
   ],
   "source": [
    "reduce(mul,l)"
   ]
  },
  {
   "cell_type": "code",
   "execution_count": null,
   "id": "ab9e1e8d",
   "metadata": {},
   "outputs": [],
   "source": []
  }
 ],
 "metadata": {
  "kernelspec": {
   "display_name": "Python 3 (ipykernel)",
   "language": "python",
   "name": "python3"
  },
  "language_info": {
   "codemirror_mode": {
    "name": "ipython",
    "version": 3
   },
   "file_extension": ".py",
   "mimetype": "text/x-python",
   "name": "python",
   "nbconvert_exporter": "python",
   "pygments_lexer": "ipython3",
   "version": "3.9.12"
  }
 },
 "nbformat": 4,
 "nbformat_minor": 5
}
